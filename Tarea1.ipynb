{
  "cells": [
    {
      "metadata": {
        "collapsed": true
      },
      "cell_type": "markdown",
      "source": "\"Hola\""
    },
    {
      "metadata": {
        "trusted": true
      },
      "cell_type": "code",
      "source": "print (\"hOLA\")",
      "execution_count": 2,
      "outputs": [
        {
          "output_type": "stream",
          "text": "hOLA\n",
          "name": "stdout"
        }
      ]
    },
    {
      "metadata": {
        "trusted": true
      },
      "cell_type": "code",
      "source": "import keras",
      "execution_count": 3,
      "outputs": [
        {
          "output_type": "stream",
          "text": "Using TensorFlow backend.\n",
          "name": "stderr"
        }
      ]
    },
    {
      "metadata": {},
      "cell_type": "markdown",
      "source": "Introducción a Python\n\n* Lenguaje Interpretado: Hay un intérprete entre los que estoy escribiendo y el procesador\n* Lenguaje Compilado: Se debe crear un archivo binario para ejecutar\n\n    - Tipado Dinámico\n    - Fuertemente tipado\n    - Identado: Manejo sangría para la programación"
    },
    {
      "metadata": {},
      "cell_type": "markdown",
      "source": "MÉTODOS STRING\n\ns.upper(): Mayúscula\ns.lower(): Minúscula\ns.replace(): Reemplaza\ns.find()\ns.split(): partir"
    },
    {
      "metadata": {},
      "cell_type": "markdown",
      "source": "LISTAS: Es una cantidad de elementos organizados sin importar el tipo de datos\nse define como:\n\n\n"
    },
    {
      "metadata": {
        "trusted": true
      },
      "cell_type": "code",
      "source": "Mezcla = [2,5,'Hola']",
      "execution_count": 7,
      "outputs": []
    },
    {
      "metadata": {},
      "cell_type": "markdown",
      "source": "MÉTODOS DE LISTAS\n\nappend(), \nextend(),\ninsert(),\nremove(), \npop(), \nreverse(), \nsort(), \nindex()"
    },
    {
      "metadata": {},
      "cell_type": "markdown",
      "source": "TUPLAS:\n    Son inmutables y no se pueden cambiar, se definen como:"
    },
    {
      "metadata": {
        "trusted": true
      },
      "cell_type": "code",
      "source": "L = 3, 4,4.2, 'Hola', True",
      "execution_count": 8,
      "outputs": []
    },
    {
      "metadata": {},
      "cell_type": "markdown",
      "source": "CONJUNTOS\n\nListado de elementos, en donde los elementos no se pueden repetir. Se definen como:"
    },
    {
      "metadata": {
        "trusted": true
      },
      "cell_type": "code",
      "source": "Frutas = {'Naranja', 'Manzana', 'Naranja', 'Durazno', 'Piña'}",
      "execution_count": 10,
      "outputs": []
    },
    {
      "metadata": {},
      "cell_type": "markdown",
      "source": "| OR & AND ^XOR"
    },
    {
      "metadata": {},
      "cell_type": "markdown",
      "source": "DICCIONARIOS:\n    Son colecciones que relacionan una llave"
    },
    {
      "metadata": {
        "trusted": true
      },
      "cell_type": "code",
      "source": "import random\n\nprint (\"Juego de adivinación\")\n\nfor i in range(10):\n    num = random.randint(0,99)\n    print(\"Digite un número\")\n    a = input()\n    if (a == num):\n        print(\"Felicitaciones!! + 10\")\n        break\n    else: \n        print(\"Intente otra vez!\")\nelse:\n    print (\"Loser!\")\n    print (num)\n        \n    ",
      "execution_count": 18,
      "outputs": [
        {
          "output_type": "stream",
          "text": "Juego de adivinación\nDigite un número\n6\nIntente otra vez!\nDigite un número\n0\nIntente otra vez!\nDigite un número\n30\nIntente otra vez!\nDigite un número\n10\nIntente otra vez!\nDigite un número\n25\nIntente otra vez!\nDigite un número\n13\nIntente otra vez!\nDigite un número\n46\nIntente otra vez!\nDigite un número\n48\nIntente otra vez!\nDigite un número\n46\nIntente otra vez!\nDigite un número\n25\nIntente otra vez!\nLoser!\n27\n",
          "name": "stdout"
        }
      ]
    },
    {
      "metadata": {},
      "cell_type": "markdown",
      "source": "NUMPY: Arreglos n-dimensionales: Arreglos de matrices\n\nSe definen importando la librería como sigue:"
    },
    {
      "metadata": {
        "trusted": true
      },
      "cell_type": "code",
      "source": "import numpy as np\n\na = np.array([4,5,6])",
      "execution_count": 21,
      "outputs": []
    },
    {
      "metadata": {},
      "cell_type": "markdown",
      "source": "np.arange: Ya está definido el rango del arreglo"
    },
    {
      "metadata": {},
      "cell_type": "markdown",
      "source": "np.reshape: Se cambia la forma del arreglo"
    },
    {
      "metadata": {},
      "cell_type": "markdown",
      "source": "np. resize(): Cambia la cantidad de elementos, re dimensiona el tamaño del arreglo"
    },
    {
      "metadata": {
        "trusted": true
      },
      "cell_type": "markdown",
      "source": "Machine Learning\n\n- Aprendizaje supervisado. Clasificación Regresión\n    - KNN: NEAREST NEIGHBORS (KNN)\n- Aprendizaje no supervisado: Agrupación\n"
    },
    {
      "metadata": {
        "trusted": true
      },
      "cell_type": "code",
      "source": "\"\"\"Implementación de KNN\"\"\"\n\nfrom sklearn import datasets\n\n\niris = datasets.load_iris()\ntype(iris)\ndir (iris)\n\niris.DESCR",
      "execution_count": 5,
      "outputs": [
        {
          "output_type": "execute_result",
          "execution_count": 5,
          "data": {
            "text/plain": "'.. _iris_dataset:\\n\\nIris plants dataset\\n--------------------\\n\\n**Data Set Characteristics:**\\n\\n    :Number of Instances: 150 (50 in each of three classes)\\n    :Number of Attributes: 4 numeric, predictive attributes and the class\\n    :Attribute Information:\\n        - sepal length in cm\\n        - sepal width in cm\\n        - petal length in cm\\n        - petal width in cm\\n        - class:\\n                - Iris-Setosa\\n                - Iris-Versicolour\\n                - Iris-Virginica\\n                \\n    :Summary Statistics:\\n\\n    ============== ==== ==== ======= ===== ====================\\n                    Min  Max   Mean    SD   Class Correlation\\n    ============== ==== ==== ======= ===== ====================\\n    sepal length:   4.3  7.9   5.84   0.83    0.7826\\n    sepal width:    2.0  4.4   3.05   0.43   -0.4194\\n    petal length:   1.0  6.9   3.76   1.76    0.9490  (high!)\\n    petal width:    0.1  2.5   1.20   0.76    0.9565  (high!)\\n    ============== ==== ==== ======= ===== ====================\\n\\n    :Missing Attribute Values: None\\n    :Class Distribution: 33.3% for each of 3 classes.\\n    :Creator: R.A. Fisher\\n    :Donor: Michael Marshall (MARSHALL%PLU@io.arc.nasa.gov)\\n    :Date: July, 1988\\n\\nThe famous Iris database, first used by Sir R.A. Fisher. The dataset is taken\\nfrom Fisher\\'s paper. Note that it\\'s the same as in R, but not as in the UCI\\nMachine Learning Repository, which has two wrong data points.\\n\\nThis is perhaps the best known database to be found in the\\npattern recognition literature.  Fisher\\'s paper is a classic in the field and\\nis referenced frequently to this day.  (See Duda & Hart, for example.)  The\\ndata set contains 3 classes of 50 instances each, where each class refers to a\\ntype of iris plant.  One class is linearly separable from the other 2; the\\nlatter are NOT linearly separable from each other.\\n\\n.. topic:: References\\n\\n   - Fisher, R.A. \"The use of multiple measurements in taxonomic problems\"\\n     Annual Eugenics, 7, Part II, 179-188 (1936); also in \"Contributions to\\n     Mathematical Statistics\" (John Wiley, NY, 1950).\\n   - Duda, R.O., & Hart, P.E. (1973) Pattern Classification and Scene Analysis.\\n     (Q327.D83) John Wiley & Sons.  ISBN 0-471-22361-1.  See page 218.\\n   - Dasarathy, B.V. (1980) \"Nosing Around the Neighborhood: A New System\\n     Structure and Classification Rule for Recognition in Partially Exposed\\n     Environments\".  IEEE Transactions on Pattern Analysis and Machine\\n     Intelligence, Vol. PAMI-2, No. 1, 67-71.\\n   - Gates, G.W. (1972) \"The Reduced Nearest Neighbor Rule\".  IEEE Transactions\\n     on Information Theory, May 1972, 431-433.\\n   - See also: 1988 MLC Proceedings, 54-64.  Cheeseman et al\"s AUTOCLASS II\\n     conceptual clustering system finds 3 classes in the data.\\n   - Many, many more ...'"
          },
          "metadata": {}
        }
      ]
    },
    {
      "metadata": {
        "trusted": true
      },
      "cell_type": "code",
      "source": "iris.feature_names\n",
      "execution_count": 6,
      "outputs": [
        {
          "output_type": "execute_result",
          "execution_count": 6,
          "data": {
            "text/plain": "['sepal length (cm)',\n 'sepal width (cm)',\n 'petal length (cm)',\n 'petal width (cm)']"
          },
          "metadata": {}
        }
      ]
    },
    {
      "metadata": {
        "trusted": true
      },
      "cell_type": "code",
      "source": "iris.target_names",
      "execution_count": 8,
      "outputs": [
        {
          "output_type": "execute_result",
          "execution_count": 8,
          "data": {
            "text/plain": "array(['setosa', 'versicolor', 'virginica'], dtype='<U10')"
          },
          "metadata": {}
        }
      ]
    },
    {
      "metadata": {},
      "cell_type": "markdown",
      "source": "La idea es separar el dataset de forma automática para entrenamiento y para testing"
    },
    {
      "metadata": {
        "trusted": true
      },
      "cell_type": "markdown",
      "source": "from sklearn.model_selection import train_test_split\n\nx_train, x_test, y_train, y_test = train_test_split(iris.data, iris.target)\nx_train\nx_test\ny_train\ny_test"
    },
    {
      "metadata": {},
      "cell_type": "markdown",
      "source": "El clasificador de tipo KNN ya está implementado, basta llamar al constructor e implementarlo"
    },
    {
      "metadata": {
        "trusted": true
      },
      "cell_type": "code",
      "source": "from sklearn.model_selection import KNeighborsClassifier\nknn = KNeighborsClassifier(n_neighbors = 5)\nknn.fit(x_train, y_train)\nknn.score(x_test, y_test)",
      "execution_count": 10,
      "outputs": [
        {
          "output_type": "error",
          "ename": "ImportError",
          "evalue": "cannot import name 'KNeighborsClassifier'",
          "traceback": [
            "\u001b[0;31m---------------------------------------------------------------------------\u001b[0m",
            "\u001b[0;31mImportError\u001b[0m                               Traceback (most recent call last)",
            "\u001b[0;32m<ipython-input-10-c596d3622da4>\u001b[0m in \u001b[0;36m<module>\u001b[0;34m\u001b[0m\n\u001b[0;32m----> 1\u001b[0;31m \u001b[0;32mfrom\u001b[0m \u001b[0msklearn\u001b[0m\u001b[0;34m.\u001b[0m\u001b[0mmodel_selection\u001b[0m \u001b[0;32mimport\u001b[0m \u001b[0mKNeighborsClassifier\u001b[0m\u001b[0;34m\u001b[0m\u001b[0m\n\u001b[0m\u001b[1;32m      2\u001b[0m \u001b[0mknn\u001b[0m \u001b[0;34m=\u001b[0m \u001b[0mKNeighborsClassifier\u001b[0m\u001b[0;34m(\u001b[0m\u001b[0mn_neighbors\u001b[0m \u001b[0;34m=\u001b[0m \u001b[0;36m5\u001b[0m\u001b[0;34m)\u001b[0m\u001b[0;34m\u001b[0m\u001b[0m\n\u001b[1;32m      3\u001b[0m \u001b[0mknn\u001b[0m\u001b[0;34m.\u001b[0m\u001b[0mfit\u001b[0m\u001b[0;34m(\u001b[0m\u001b[0mx_train\u001b[0m\u001b[0;34m,\u001b[0m \u001b[0my_train\u001b[0m\u001b[0;34m)\u001b[0m\u001b[0;34m\u001b[0m\u001b[0m\n\u001b[1;32m      4\u001b[0m \u001b[0mknn\u001b[0m\u001b[0;34m.\u001b[0m\u001b[0mscore\u001b[0m\u001b[0;34m(\u001b[0m\u001b[0mx_test\u001b[0m\u001b[0;34m,\u001b[0m \u001b[0my_test\u001b[0m\u001b[0;34m)\u001b[0m\u001b[0;34m\u001b[0m\u001b[0m\n",
            "\u001b[0;31mImportError\u001b[0m: cannot import name 'KNeighborsClassifier'"
          ]
        }
      ]
    },
    {
      "metadata": {},
      "cell_type": "markdown",
      "source": "SUPPORT VECTOR MACHINE (SVM) Clasificar datos mediante un hiperplano. Mediante un kernel se puede llevar los datos a otra dimensión, de tal manera que puedan ser clasificables"
    },
    {
      "metadata": {
        "trusted": true
      },
      "cell_type": "code",
      "source": "\"Implementación de SVM en PHYTON\"\n\nfrom sklearn.datasets import load_digits\nfrom sklearn.model_selection import train_test_split\nfrom sklearn.svm import SVC\n\ndigits = load_digits()",
      "execution_count": 11,
      "outputs": []
    },
    {
      "metadata": {
        "trusted": true
      },
      "cell_type": "markdown",
      "source": "ÁRBOLES DE DECISIÓN"
    },
    {
      "metadata": {},
      "cell_type": "markdown",
      "source": "Redes Neuronales convolucionales: Capas de convolución.\n- Función de clasificación: SoftMax\n- PROCESO: Convolución --> ReLU --> MaxPooling --> DropOuT"
    },
    {
      "metadata": {
        "trusted": true
      },
      "cell_type": "code",
      "source": "",
      "execution_count": null,
      "outputs": []
    }
  ],
  "metadata": {
    "kernelspec": {
      "name": "python36",
      "display_name": "Python 3.6",
      "language": "python"
    },
    "language_info": {
      "mimetype": "text/x-python",
      "nbconvert_exporter": "python",
      "name": "python",
      "pygments_lexer": "ipython3",
      "version": "3.6.6",
      "file_extension": ".py",
      "codemirror_mode": {
        "version": 3,
        "name": "ipython"
      }
    }
  },
  "nbformat": 4,
  "nbformat_minor": 2
}